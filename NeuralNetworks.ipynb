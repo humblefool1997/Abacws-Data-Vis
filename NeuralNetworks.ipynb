{
  "nbformat": 4,
  "nbformat_minor": 0,
  "metadata": {
    "colab": {
      "provenance": [],
      "authorship_tag": "ABX9TyNig6CdesBWMwDf2G6R3yYz",
      "include_colab_link": true
    },
    "kernelspec": {
      "name": "python3",
      "display_name": "Python 3"
    },
    "language_info": {
      "name": "python"
    }
  },
  "cells": [
    {
      "cell_type": "markdown",
      "metadata": {
        "id": "view-in-github",
        "colab_type": "text"
      },
      "source": [
        "<a href=\"https://colab.research.google.com/github/humblefool1997/Abacws-Data-Vis/blob/main/NeuralNetworks.ipynb\" target=\"_parent\"><img src=\"https://colab.research.google.com/assets/colab-badge.svg\" alt=\"Open In Colab\"/></a>"
      ]
    },
    {
      "cell_type": "markdown",
      "source": [
        "*   Load Data\n",
        "*   Define PyToch Model\n",
        "*   Define Loss Function and Optimizers\n",
        "*   Run a Training Loop\n",
        "*   Evaluate the Model\n",
        "*   Make Predictions\n",
        "\n"
      ],
      "metadata": {
        "id": "ZZ1SPOsm_SyC"
      }
    },
    {
      "cell_type": "code",
      "execution_count": null,
      "metadata": {
        "id": "ysq8ainp5SaY"
      },
      "outputs": [],
      "source": [
        "import numpy as np\n",
        "import torch\n"
      ]
    }
  ]
}